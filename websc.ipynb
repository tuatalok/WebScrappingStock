{
 "cells": [
  {
   "cell_type": "code",
   "execution_count": 46,
   "source": [
    "import pandas as pd\n",
    "from bs4 import BeautifulSoup\n",
    "import requests\n",
    "import time\n",
    "\n",
    "def com_name(x):\n",
    "    x = x.replace('#',' ')\n",
    "    x = x.split('=')\n",
    "    name = x[1].split('&')\n",
    "    name = name[0]\n",
    "    return name\n",
    "\n",
    "def url_edit(x):\n",
    "    x = x + '&offset={0}'\n",
    "    return x\n",
    "\n",
    "URL = str(input('Please Input URL Strock :'))\n",
    "URL = url_edit(URL)\n",
    "name_com = com_name(URL)\n",
    "\n",
    "list_page = [x for x in range(0,135,15)]\n",
    "list_td = list()\n",
    "\n",
    "for i in list_page :\n",
    "    response = requests.get(URL.format(str(i)))\n",
    "    document = BeautifulSoup(response.text,'html.parser')\n",
    "    table = document.find('table' , attrs = {'class' : 'table table-info table-hover'})\n",
    "    tbody = table.find('tbody')\n",
    "    tr = tbody.find_all('tr')\n",
    "    for info in tr :\n",
    "        td = info.find_all('td')\n",
    "        row = [i.text for i in td]\n",
    "        list_td.append(row)\n",
    "\n",
    "columns = ['Date','Open','High', 'Low' ,'Average_Price' ,'Close' ,'Change' ,'% Change','Volume' ,'Value' ,'SET_Index' ,'% Change']\n",
    "df = pd.DataFrame(list_td , columns = columns)\n",
    "df['Company_Name'] = name_com\n",
    "df.to_csv('{0}_{1}'.format(name_com,time.strftime(\"%d%m%Y\")),index=False)"
   ],
   "outputs": [],
   "metadata": {}
  }
 ],
 "metadata": {
  "orig_nbformat": 4,
  "language_info": {
   "name": "python",
   "version": "3.8.8",
   "mimetype": "text/x-python",
   "codemirror_mode": {
    "name": "ipython",
    "version": 3
   },
   "pygments_lexer": "ipython3",
   "nbconvert_exporter": "python",
   "file_extension": ".py"
  },
  "kernelspec": {
   "name": "python3",
   "display_name": "Python 3.8.8 64-bit ('base': conda)"
  },
  "interpreter": {
   "hash": "f768e09437baa77f5293205bb5bfa689554484ab18d2778c03f888a6d78da5f1"
  }
 },
 "nbformat": 4,
 "nbformat_minor": 2
}